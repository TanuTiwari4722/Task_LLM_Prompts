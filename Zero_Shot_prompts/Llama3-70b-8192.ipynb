{
 "cells": [
  {
   "cell_type": "markdown",
   "id": "7d94dccc",
   "metadata": {},
   "source": [
    "### Importing Libraries and setting env variables"
   ]
  },
  {
   "cell_type": "code",
   "execution_count": 1,
   "id": "07ead90b",
   "metadata": {},
   "outputs": [],
   "source": [
    "import os\n",
    "from groq import Groq\n",
    "from dotenv import load_dotenv\n",
    "\n",
    "import warnings\n",
    "warnings.simplefilter(action='ignore', category=FutureWarning)\n",
    "warnings.simplefilter(action='ignore', category=UserWarning)\n",
    "\n",
    "load_dotenv()\n",
    "\n",
    "api_key = os.getenv(\"GROQ_API_KEY\")\n",
    "client = Groq(api_key=api_key)"
   ]
  },
  {
   "cell_type": "markdown",
   "id": "c1b8a685",
   "metadata": {},
   "source": [
    "### Prompting Model"
   ]
  },
  {
   "cell_type": "code",
   "execution_count": 2,
   "id": "3e201fa5",
   "metadata": {},
   "outputs": [],
   "source": [
    "def get_code_from_model(query):\n",
    "    chat_completion = client.chat.completions.create(\n",
    "        messages=[\n",
    "            {\n",
    "                \"role\": \"system\",\n",
    "                \"content\": (\n",
    "                    \"You are a professional Python developer. \"\n",
    "                    \"Answer all queries by generating only valid and clean Python code. \"\n",
    "                    \"Do not provide any explanation or comments.\\n\\n\"\n",
    "                    \"You have access to a dataset stored in 'household_power_consumption.csv'. \"\n",
    "                    \"Load it in a DataFrame `df` as follows:\\n\"\n",
    "                    \"df = pd.read_csv('household_power_consumption.csv', sep=';', parse_dates={'datetime': ['Date', 'Time']}, infer_datetime_format=True, na_values=['?'], low_memory=False)\\n\\n\"\n",
    "                    \"Clean it using:\\n\"\n",
    "                    \"df = df.dropna()\\n\"\n",
    "                    \"df['Global_active_power'] = df['Global_active_power'].astype(float)\\n\"\n",
    "                    \"df = df.set_index('datetime')\\n\\n\"\n",
    "                    \"Columns in dataframe `df` are :  'Global_active_power', 'Global_reactive_power', 'Voltage', \"\n",
    "                    \"'Global_intensity', 'Sub_metering_1', 'Sub_metering_2', 'Sub_metering_3'. \"\n",
    "                    \"The index is 'datetime' \"\n",
    "                    \"All columns have floating point values and datetime is the index.\"\n",
    "                    \"Give me full code and start from loading the data.\"\n",
    "                )\n",
    "            },\n",
    "            {\n",
    "                \"role\": \"user\",\n",
    "                \"content\": query,\n",
    "            }\n",
    "        ],\n",
    "        model=\"llama3-70b-8192\",\n",
    "        temperature=0,\n",
    "        top_p=1,\n",
    "    )\n",
    "\n",
    "    response = chat_completion.choices[0].message.content\n",
    "    return response"
   ]
  },
  {
   "cell_type": "markdown",
   "id": "8de77546",
   "metadata": {},
   "source": [
    "### 1. What was the average active power consumption in March 2007?"
   ]
  },
  {
   "cell_type": "code",
   "execution_count": 3,
   "id": "5788ae8b",
   "metadata": {},
   "outputs": [
    {
     "name": "stdout",
     "output_type": "stream",
     "text": [
      "```\n",
      "import pandas as pd\n",
      "\n",
      "df = pd.read_csv('household_power_consumption.csv', sep=';', parse_dates={'datetime': ['Date', 'Time']}, infer_datetime_format=True, na_values=['?'], low_memory=False)\n",
      "df = df.dropna()\n",
      "df['Global_active_power'] = df['Global_active_power'].astype(float)\n",
      "df = df.set_index('datetime')\n",
      "\n",
      "avg_power_march_2007 = df[(df.index.year == 2007) & (df.index.month == 3)]['Global_active_power'].mean()\n",
      "print(avg_power_march_2007)\n",
      "```\n"
     ]
    }
   ],
   "source": [
    "question = \"What was the average active power consumption in March 2007?\"\n",
    "\n",
    "response = get_code_from_model(question)\n",
    "\n",
    "print(response)"
   ]
  },
  {
   "cell_type": "markdown",
   "id": "95b5522a",
   "metadata": {},
   "source": [
    "#### Running the code"
   ]
  },
  {
   "cell_type": "code",
   "execution_count": 4,
   "id": "f04e56b7",
   "metadata": {},
   "outputs": [
    {
     "name": "stdout",
     "output_type": "stream",
     "text": [
      "1.3186270301754073\n"
     ]
    }
   ],
   "source": [
    "import pandas as pd\n",
    "\n",
    "df = pd.read_csv('household_power_consumption.csv', sep=';', parse_dates={'datetime': ['Date', 'Time']}, infer_datetime_format=True, na_values=['?'], low_memory=False)\n",
    "df = df.dropna()\n",
    "df['Global_active_power'] = df['Global_active_power'].astype(float)\n",
    "df = df.set_index('datetime')\n",
    "\n",
    "avg_power_march_2007 = df[(df.index.year == 2007) & (df.index.month == 3)]['Global_active_power'].mean()\n",
    "print(avg_power_march_2007)\n"
   ]
  },
  {
   "cell_type": "markdown",
   "id": "23857a8b",
   "metadata": {},
   "source": [
    "### 2. What hour of the day had the highest power usage on Christmas 2006?"
   ]
  },
  {
   "cell_type": "code",
   "execution_count": 5,
   "id": "6a1ed2cb",
   "metadata": {},
   "outputs": [
    {
     "name": "stdout",
     "output_type": "stream",
     "text": [
      "```\n",
      "import pandas as pd\n",
      "\n",
      "df = pd.read_csv('household_power_consumption.csv', sep=';', parse_dates={'datetime': ['Date', 'Time']}, infer_datetime_format=True, na_values=['?'], low_memory=False)\n",
      "df = df.dropna()\n",
      "df['Global_active_power'] = df['Global_active_power'].astype(float)\n",
      "df = df.set_index('datetime')\n",
      "\n",
      "christmas_2006 = df[(df.index.year == 2006) & (df.index.month == 12)]\n",
      "hourly_usage = christmas_2006.resample('H')['Global_active_power'].max().reset_index()\n",
      "hour_with_max_usage = hourly_usage.loc[hourly_usage['Global_active_power'] == hourly_usage['Global_active_power'].max()]\n",
      "\n",
      "print(hour_with_max_usage['datetime'].dt.hour)\n",
      "```\n"
     ]
    }
   ],
   "source": [
    "question = \"What hour of the day had the highest power usage on Christmas 2006?\"\n",
    "\n",
    "response = get_code_from_model(question)\n",
    "\n",
    "print(response)"
   ]
  },
  {
   "cell_type": "markdown",
   "id": "316422e0",
   "metadata": {},
   "source": [
    "#### Running the code"
   ]
  },
  {
   "cell_type": "code",
   "execution_count": 6,
   "id": "ce82d062",
   "metadata": {},
   "outputs": [
    {
     "name": "stdout",
     "output_type": "stream",
     "text": [
      "292    21\n",
      "Name: datetime, dtype: int32\n"
     ]
    }
   ],
   "source": [
    "import pandas as pd\n",
    "\n",
    "df = pd.read_csv('household_power_consumption.csv', sep=';', parse_dates={'datetime': ['Date', 'Time']}, infer_datetime_format=True, na_values=['?'], low_memory=False)\n",
    "df = df.dropna()\n",
    "df['Global_active_power'] = df['Global_active_power'].astype(float)\n",
    "df = df.set_index('datetime')\n",
    "\n",
    "christmas_2006 = df[(df.index.year == 2006) & (df.index.month == 12)]\n",
    "hourly_usage = christmas_2006.resample('H')['Global_active_power'].max().reset_index()\n",
    "hour_with_max_usage = hourly_usage.loc[hourly_usage['Global_active_power'] == hourly_usage['Global_active_power'].max()]\n",
    "\n",
    "print(hour_with_max_usage['datetime'].dt.hour)"
   ]
  },
  {
   "cell_type": "markdown",
   "id": "ce4192fd",
   "metadata": {},
   "source": [
    "### 3. Compare energy usage (Global_active_power) on weekdays vs weekends."
   ]
  },
  {
   "cell_type": "code",
   "execution_count": 7,
   "id": "c0de2ed6",
   "metadata": {},
   "outputs": [
    {
     "name": "stdout",
     "output_type": "stream",
     "text": [
      "```\n",
      "import pandas as pd\n",
      "\n",
      "df = pd.read_csv('household_power_consumption.csv', sep=';', parse_dates={'datetime': ['Date', 'Time']}, infer_datetime_format=True, na_values=['?'], low_memory=False)\n",
      "\n",
      "df = df.dropna()\n",
      "df['Global_active_power'] = df['Global_active_power'].astype(float)\n",
      "df = df.set_index('datetime')\n",
      "\n",
      "df['day_of_week'] = df.index.dayofweek\n",
      "weekdays = df[df['day_of_week'] < 5]\n",
      "weekends = df['day_of_week'] >= 5\n",
      "\n",
      "print(weekdays['Global_active_power'].mean())\n",
      "print(weekends['Global_active_power'].mean())\n",
      "```\n"
     ]
    }
   ],
   "source": [
    "question = \"Compare energy usage (Global_active_power) on weekdays vs weekends.\"\n",
    "\n",
    "response = get_code_from_model(question)\n",
    "\n",
    "print(response)"
   ]
  },
  {
   "cell_type": "markdown",
   "id": "e6c418b8",
   "metadata": {},
   "source": [
    "#### Running the code"
   ]
  },
  {
   "cell_type": "code",
   "execution_count": 8,
   "id": "51520d6a",
   "metadata": {},
   "outputs": [
    {
     "name": "stdout",
     "output_type": "stream",
     "text": [
      "1.0354720516747509\n"
     ]
    },
    {
     "ename": "KeyError",
     "evalue": "'Global_active_power'",
     "output_type": "error",
     "traceback": [
      "\u001b[0;31m---------------------------------------------------------------------------\u001b[0m",
      "\u001b[0;31mDateParseError\u001b[0m                            Traceback (most recent call last)",
      "File \u001b[0;32m~/miniconda3/envs/Oasis/lib/python3.9/site-packages/pandas/core/indexes/datetimes.py:603\u001b[0m, in \u001b[0;36mDatetimeIndex.get_loc\u001b[0;34m(self, key)\u001b[0m\n\u001b[1;32m    602\u001b[0m \u001b[38;5;28;01mtry\u001b[39;00m:\n\u001b[0;32m--> 603\u001b[0m     parsed, reso \u001b[38;5;241m=\u001b[39m \u001b[38;5;28;43mself\u001b[39;49m\u001b[38;5;241;43m.\u001b[39;49m\u001b[43m_parse_with_reso\u001b[49m\u001b[43m(\u001b[49m\u001b[43mkey\u001b[49m\u001b[43m)\u001b[49m\n\u001b[1;32m    604\u001b[0m \u001b[38;5;28;01mexcept\u001b[39;00m (\u001b[38;5;167;01mValueError\u001b[39;00m, pytz\u001b[38;5;241m.\u001b[39mNonExistentTimeError) \u001b[38;5;28;01mas\u001b[39;00m err:\n",
      "File \u001b[0;32m~/miniconda3/envs/Oasis/lib/python3.9/site-packages/pandas/core/indexes/datetimes.py:559\u001b[0m, in \u001b[0;36mDatetimeIndex._parse_with_reso\u001b[0;34m(self, label)\u001b[0m\n\u001b[1;32m    558\u001b[0m \u001b[38;5;28;01mdef\u001b[39;00m \u001b[38;5;21m_parse_with_reso\u001b[39m(\u001b[38;5;28mself\u001b[39m, label: \u001b[38;5;28mstr\u001b[39m):\n\u001b[0;32m--> 559\u001b[0m     parsed, reso \u001b[38;5;241m=\u001b[39m \u001b[38;5;28;43msuper\u001b[39;49m\u001b[43m(\u001b[49m\u001b[43m)\u001b[49m\u001b[38;5;241;43m.\u001b[39;49m\u001b[43m_parse_with_reso\u001b[49m\u001b[43m(\u001b[49m\u001b[43mlabel\u001b[49m\u001b[43m)\u001b[49m\n\u001b[1;32m    561\u001b[0m     parsed \u001b[38;5;241m=\u001b[39m Timestamp(parsed)\n",
      "File \u001b[0;32m~/miniconda3/envs/Oasis/lib/python3.9/site-packages/pandas/core/indexes/datetimelike.py:293\u001b[0m, in \u001b[0;36mDatetimeIndexOpsMixin._parse_with_reso\u001b[0;34m(self, label)\u001b[0m\n\u001b[1;32m    291\u001b[0m     label \u001b[38;5;241m=\u001b[39m \u001b[38;5;28mstr\u001b[39m(label)\n\u001b[0;32m--> 293\u001b[0m parsed, reso_str \u001b[38;5;241m=\u001b[39m \u001b[43mparsing\u001b[49m\u001b[38;5;241;43m.\u001b[39;49m\u001b[43mparse_datetime_string_with_reso\u001b[49m\u001b[43m(\u001b[49m\u001b[43mlabel\u001b[49m\u001b[43m,\u001b[49m\u001b[43m \u001b[49m\u001b[43mfreqstr\u001b[49m\u001b[43m)\u001b[49m\n\u001b[1;32m    294\u001b[0m reso \u001b[38;5;241m=\u001b[39m Resolution\u001b[38;5;241m.\u001b[39mfrom_attrname(reso_str)\n",
      "File \u001b[0;32mparsing.pyx:442\u001b[0m, in \u001b[0;36mpandas._libs.tslibs.parsing.parse_datetime_string_with_reso\u001b[0;34m()\u001b[0m\n",
      "File \u001b[0;32mparsing.pyx:666\u001b[0m, in \u001b[0;36mpandas._libs.tslibs.parsing.dateutil_parse\u001b[0;34m()\u001b[0m\n",
      "\u001b[0;31mDateParseError\u001b[0m: Unknown datetime string format, unable to parse: Global_active_power",
      "\nThe above exception was the direct cause of the following exception:\n",
      "\u001b[0;31mKeyError\u001b[0m                                  Traceback (most recent call last)",
      "Cell \u001b[0;32mIn[8], line 14\u001b[0m\n\u001b[1;32m     11\u001b[0m weekends \u001b[38;5;241m=\u001b[39m df[\u001b[38;5;124m'\u001b[39m\u001b[38;5;124mday_of_week\u001b[39m\u001b[38;5;124m'\u001b[39m] \u001b[38;5;241m>\u001b[39m\u001b[38;5;241m=\u001b[39m \u001b[38;5;241m5\u001b[39m\n\u001b[1;32m     13\u001b[0m \u001b[38;5;28mprint\u001b[39m(weekdays[\u001b[38;5;124m'\u001b[39m\u001b[38;5;124mGlobal_active_power\u001b[39m\u001b[38;5;124m'\u001b[39m]\u001b[38;5;241m.\u001b[39mmean())\n\u001b[0;32m---> 14\u001b[0m \u001b[38;5;28mprint\u001b[39m(\u001b[43mweekends\u001b[49m\u001b[43m[\u001b[49m\u001b[38;5;124;43m'\u001b[39;49m\u001b[38;5;124;43mGlobal_active_power\u001b[39;49m\u001b[38;5;124;43m'\u001b[39;49m\u001b[43m]\u001b[49m\u001b[38;5;241m.\u001b[39mmean())\n",
      "File \u001b[0;32m~/miniconda3/envs/Oasis/lib/python3.9/site-packages/pandas/core/series.py:1121\u001b[0m, in \u001b[0;36mSeries.__getitem__\u001b[0;34m(self, key)\u001b[0m\n\u001b[1;32m   1118\u001b[0m     \u001b[38;5;28;01mreturn\u001b[39;00m \u001b[38;5;28mself\u001b[39m\u001b[38;5;241m.\u001b[39m_values[key]\n\u001b[1;32m   1120\u001b[0m \u001b[38;5;28;01melif\u001b[39;00m key_is_scalar:\n\u001b[0;32m-> 1121\u001b[0m     \u001b[38;5;28;01mreturn\u001b[39;00m \u001b[38;5;28;43mself\u001b[39;49m\u001b[38;5;241;43m.\u001b[39;49m\u001b[43m_get_value\u001b[49m\u001b[43m(\u001b[49m\u001b[43mkey\u001b[49m\u001b[43m)\u001b[49m\n\u001b[1;32m   1123\u001b[0m \u001b[38;5;66;03m# Convert generator to list before going through hashable part\u001b[39;00m\n\u001b[1;32m   1124\u001b[0m \u001b[38;5;66;03m# (We will iterate through the generator there to check for slices)\u001b[39;00m\n\u001b[1;32m   1125\u001b[0m \u001b[38;5;28;01mif\u001b[39;00m is_iterator(key):\n",
      "File \u001b[0;32m~/miniconda3/envs/Oasis/lib/python3.9/site-packages/pandas/core/series.py:1237\u001b[0m, in \u001b[0;36mSeries._get_value\u001b[0;34m(self, label, takeable)\u001b[0m\n\u001b[1;32m   1234\u001b[0m     \u001b[38;5;28;01mreturn\u001b[39;00m \u001b[38;5;28mself\u001b[39m\u001b[38;5;241m.\u001b[39m_values[label]\n\u001b[1;32m   1236\u001b[0m \u001b[38;5;66;03m# Similar to Index.get_value, but we do not fall back to positional\u001b[39;00m\n\u001b[0;32m-> 1237\u001b[0m loc \u001b[38;5;241m=\u001b[39m \u001b[38;5;28;43mself\u001b[39;49m\u001b[38;5;241;43m.\u001b[39;49m\u001b[43mindex\u001b[49m\u001b[38;5;241;43m.\u001b[39;49m\u001b[43mget_loc\u001b[49m\u001b[43m(\u001b[49m\u001b[43mlabel\u001b[49m\u001b[43m)\u001b[49m\n\u001b[1;32m   1239\u001b[0m \u001b[38;5;28;01mif\u001b[39;00m is_integer(loc):\n\u001b[1;32m   1240\u001b[0m     \u001b[38;5;28;01mreturn\u001b[39;00m \u001b[38;5;28mself\u001b[39m\u001b[38;5;241m.\u001b[39m_values[loc]\n",
      "File \u001b[0;32m~/miniconda3/envs/Oasis/lib/python3.9/site-packages/pandas/core/indexes/datetimes.py:605\u001b[0m, in \u001b[0;36mDatetimeIndex.get_loc\u001b[0;34m(self, key)\u001b[0m\n\u001b[1;32m    603\u001b[0m     parsed, reso \u001b[38;5;241m=\u001b[39m \u001b[38;5;28mself\u001b[39m\u001b[38;5;241m.\u001b[39m_parse_with_reso(key)\n\u001b[1;32m    604\u001b[0m \u001b[38;5;28;01mexcept\u001b[39;00m (\u001b[38;5;167;01mValueError\u001b[39;00m, pytz\u001b[38;5;241m.\u001b[39mNonExistentTimeError) \u001b[38;5;28;01mas\u001b[39;00m err:\n\u001b[0;32m--> 605\u001b[0m     \u001b[38;5;28;01mraise\u001b[39;00m \u001b[38;5;167;01mKeyError\u001b[39;00m(key) \u001b[38;5;28;01mfrom\u001b[39;00m \u001b[38;5;21;01merr\u001b[39;00m\n\u001b[1;32m    606\u001b[0m \u001b[38;5;28mself\u001b[39m\u001b[38;5;241m.\u001b[39m_disallow_mismatched_indexing(parsed)\n\u001b[1;32m    608\u001b[0m \u001b[38;5;28;01mif\u001b[39;00m \u001b[38;5;28mself\u001b[39m\u001b[38;5;241m.\u001b[39m_can_partial_date_slice(reso):\n",
      "\u001b[0;31mKeyError\u001b[0m: 'Global_active_power'"
     ]
    }
   ],
   "source": [
    "import pandas as pd\n",
    "\n",
    "df = pd.read_csv('household_power_consumption.csv', sep=';', parse_dates={'datetime': ['Date', 'Time']}, infer_datetime_format=True, na_values=['?'], low_memory=False)\n",
    "\n",
    "df = df.dropna()\n",
    "df['Global_active_power'] = df['Global_active_power'].astype(float)\n",
    "df = df.set_index('datetime')\n",
    "\n",
    "df['day_of_week'] = df.index.dayofweek\n",
    "weekdays = df[df['day_of_week'] < 5]\n",
    "weekends = df['day_of_week'] >= 5\n",
    "\n",
    "print(weekdays['Global_active_power'].mean())\n",
    "print(weekends['Global_active_power'].mean())"
   ]
  },
  {
   "cell_type": "markdown",
   "id": "1b52645b",
   "metadata": {},
   "source": [
    "### 4. Find days where energy consumption exceeded 5 kWh."
   ]
  },
  {
   "cell_type": "code",
   "execution_count": 9,
   "id": "04abc6e2",
   "metadata": {},
   "outputs": [
    {
     "name": "stdout",
     "output_type": "stream",
     "text": [
      "```\n",
      "import pandas as pd\n",
      "\n",
      "df = pd.read_csv('household_power_consumption.csv', sep=';', parse_dates={'datetime': ['Date', 'Time']}, infer_datetime_format=True, na_values=['?'], low_memory=False)\n",
      "df = df.dropna()\n",
      "df['Global_active_power'] = df['Global_active_power'].astype(float)\n",
      "df = df.set_index('datetime')\n",
      "\n",
      "exceeded_days = df[df['Global_active_power'] > 5].resample('D').sum()\n",
      "```\n"
     ]
    }
   ],
   "source": [
    "question = \"Find days where energy consumption exceeded 5 kWh.\"\n",
    "\n",
    "response = get_code_from_model(question)\n",
    "\n",
    "print(response)"
   ]
  },
  {
   "cell_type": "markdown",
   "id": "0d899f2f",
   "metadata": {},
   "source": [
    "#### Running the code"
   ]
  },
  {
   "cell_type": "code",
   "execution_count": 10,
   "id": "30b58503",
   "metadata": {},
   "outputs": [
    {
     "data": {
      "text/html": [
       "<div>\n",
       "<style scoped>\n",
       "    .dataframe tbody tr th:only-of-type {\n",
       "        vertical-align: middle;\n",
       "    }\n",
       "\n",
       "    .dataframe tbody tr th {\n",
       "        vertical-align: top;\n",
       "    }\n",
       "\n",
       "    .dataframe thead th {\n",
       "        text-align: right;\n",
       "    }\n",
       "</style>\n",
       "<table border=\"1\" class=\"dataframe\">\n",
       "  <thead>\n",
       "    <tr style=\"text-align: right;\">\n",
       "      <th></th>\n",
       "      <th>Global_active_power</th>\n",
       "      <th>Global_reactive_power</th>\n",
       "      <th>Voltage</th>\n",
       "      <th>Global_intensity</th>\n",
       "      <th>Sub_metering_1</th>\n",
       "      <th>Sub_metering_2</th>\n",
       "      <th>Sub_metering_3</th>\n",
       "    </tr>\n",
       "    <tr>\n",
       "      <th>datetime</th>\n",
       "      <th></th>\n",
       "      <th></th>\n",
       "      <th></th>\n",
       "      <th></th>\n",
       "      <th></th>\n",
       "      <th></th>\n",
       "      <th></th>\n",
       "    </tr>\n",
       "  </thead>\n",
       "  <tbody>\n",
       "    <tr>\n",
       "      <th>2006-12-16</th>\n",
       "      <td>89.484</td>\n",
       "      <td>3.420</td>\n",
       "      <td>3491.04</td>\n",
       "      <td>384.8</td>\n",
       "      <td>0.0</td>\n",
       "      <td>181.0</td>\n",
       "      <td>250.0</td>\n",
       "    </tr>\n",
       "    <tr>\n",
       "      <th>2006-12-17</th>\n",
       "      <td>178.436</td>\n",
       "      <td>6.856</td>\n",
       "      <td>7269.79</td>\n",
       "      <td>761.8</td>\n",
       "      <td>505.0</td>\n",
       "      <td>1081.0</td>\n",
       "      <td>334.0</td>\n",
       "    </tr>\n",
       "    <tr>\n",
       "      <th>2006-12-18</th>\n",
       "      <td>16.760</td>\n",
       "      <td>1.024</td>\n",
       "      <td>697.52</td>\n",
       "      <td>72.6</td>\n",
       "      <td>0.0</td>\n",
       "      <td>72.0</td>\n",
       "      <td>17.0</td>\n",
       "    </tr>\n",
       "    <tr>\n",
       "      <th>2006-12-19</th>\n",
       "      <td>166.184</td>\n",
       "      <td>5.158</td>\n",
       "      <td>6334.00</td>\n",
       "      <td>711.6</td>\n",
       "      <td>672.0</td>\n",
       "      <td>1335.0</td>\n",
       "      <td>387.0</td>\n",
       "    </tr>\n",
       "    <tr>\n",
       "      <th>2006-12-20</th>\n",
       "      <td>96.488</td>\n",
       "      <td>1.400</td>\n",
       "      <td>4011.90</td>\n",
       "      <td>408.4</td>\n",
       "      <td>0.0</td>\n",
       "      <td>518.0</td>\n",
       "      <td>290.0</td>\n",
       "    </tr>\n",
       "    <tr>\n",
       "      <th>...</th>\n",
       "      <td>...</td>\n",
       "      <td>...</td>\n",
       "      <td>...</td>\n",
       "      <td>...</td>\n",
       "      <td>...</td>\n",
       "      <td>...</td>\n",
       "      <td>...</td>\n",
       "    </tr>\n",
       "    <tr>\n",
       "      <th>2010-11-21</th>\n",
       "      <td>0.000</td>\n",
       "      <td>0.000</td>\n",
       "      <td>0.00</td>\n",
       "      <td>0.0</td>\n",
       "      <td>0.0</td>\n",
       "      <td>0.0</td>\n",
       "      <td>0.0</td>\n",
       "    </tr>\n",
       "    <tr>\n",
       "      <th>2010-11-22</th>\n",
       "      <td>55.614</td>\n",
       "      <td>1.568</td>\n",
       "      <td>2325.71</td>\n",
       "      <td>243.0</td>\n",
       "      <td>438.0</td>\n",
       "      <td>3.0</td>\n",
       "      <td>35.0</td>\n",
       "    </tr>\n",
       "    <tr>\n",
       "      <th>2010-11-23</th>\n",
       "      <td>0.000</td>\n",
       "      <td>0.000</td>\n",
       "      <td>0.00</td>\n",
       "      <td>0.0</td>\n",
       "      <td>0.0</td>\n",
       "      <td>0.0</td>\n",
       "      <td>0.0</td>\n",
       "    </tr>\n",
       "    <tr>\n",
       "      <th>2010-11-24</th>\n",
       "      <td>10.922</td>\n",
       "      <td>0.050</td>\n",
       "      <td>469.58</td>\n",
       "      <td>46.6</td>\n",
       "      <td>0.0</td>\n",
       "      <td>77.0</td>\n",
       "      <td>34.0</td>\n",
       "    </tr>\n",
       "    <tr>\n",
       "      <th>2010-11-25</th>\n",
       "      <td>5.074</td>\n",
       "      <td>0.240</td>\n",
       "      <td>238.55</td>\n",
       "      <td>21.4</td>\n",
       "      <td>1.0</td>\n",
       "      <td>2.0</td>\n",
       "      <td>18.0</td>\n",
       "    </tr>\n",
       "  </tbody>\n",
       "</table>\n",
       "<p>1441 rows × 7 columns</p>\n",
       "</div>"
      ],
      "text/plain": [
       "            Global_active_power  Global_reactive_power  Voltage  \\\n",
       "datetime                                                          \n",
       "2006-12-16               89.484                  3.420  3491.04   \n",
       "2006-12-17              178.436                  6.856  7269.79   \n",
       "2006-12-18               16.760                  1.024   697.52   \n",
       "2006-12-19              166.184                  5.158  6334.00   \n",
       "2006-12-20               96.488                  1.400  4011.90   \n",
       "...                         ...                    ...      ...   \n",
       "2010-11-21                0.000                  0.000     0.00   \n",
       "2010-11-22               55.614                  1.568  2325.71   \n",
       "2010-11-23                0.000                  0.000     0.00   \n",
       "2010-11-24               10.922                  0.050   469.58   \n",
       "2010-11-25                5.074                  0.240   238.55   \n",
       "\n",
       "            Global_intensity  Sub_metering_1  Sub_metering_2  Sub_metering_3  \n",
       "datetime                                                                      \n",
       "2006-12-16             384.8             0.0           181.0           250.0  \n",
       "2006-12-17             761.8           505.0          1081.0           334.0  \n",
       "2006-12-18              72.6             0.0            72.0            17.0  \n",
       "2006-12-19             711.6           672.0          1335.0           387.0  \n",
       "2006-12-20             408.4             0.0           518.0           290.0  \n",
       "...                      ...             ...             ...             ...  \n",
       "2010-11-21               0.0             0.0             0.0             0.0  \n",
       "2010-11-22             243.0           438.0             3.0            35.0  \n",
       "2010-11-23               0.0             0.0             0.0             0.0  \n",
       "2010-11-24              46.6             0.0            77.0            34.0  \n",
       "2010-11-25              21.4             1.0             2.0            18.0  \n",
       "\n",
       "[1441 rows x 7 columns]"
      ]
     },
     "execution_count": 10,
     "metadata": {},
     "output_type": "execute_result"
    }
   ],
   "source": [
    "import pandas as pd\n",
    "\n",
    "df = pd.read_csv('household_power_consumption.csv', sep=';', parse_dates={'datetime': ['Date', 'Time']}, infer_datetime_format=True, na_values=['?'], low_memory=False)\n",
    "df = df.dropna()\n",
    "df['Global_active_power'] = df['Global_active_power'].astype(float)\n",
    "df = df.set_index('datetime')\n",
    "\n",
    "exceeded_days = df[df['Global_active_power'] > 5].resample('D').sum()\n",
    "exceeded_days"
   ]
  },
  {
   "cell_type": "markdown",
   "id": "00a0c62a",
   "metadata": {},
   "source": [
    "### 5. Plot the energy usage trend for the first week of January 2007."
   ]
  },
  {
   "cell_type": "code",
   "execution_count": 11,
   "id": "5a72133b",
   "metadata": {},
   "outputs": [
    {
     "name": "stdout",
     "output_type": "stream",
     "text": [
      "```\n",
      "import pandas as pd\n",
      "import matplotlib.pyplot as plt\n",
      "\n",
      "df = pd.read_csv('household_power_consumption.csv', sep=';', parse_dates={'datetime': ['Date', 'Time']}, infer_datetime_format=True, na_values=['?'], low_memory=False)\n",
      "df = df.dropna()\n",
      "df['Global_active_power'] = df['Global_active_power'].astype(float)\n",
      "df = df.set_index('datetime')\n",
      "\n",
      "df_first_week = df['2007-01-01':'2007-01-07')\n",
      "df_first_week['Global_active_power'].plot()\n",
      "plt.show()\n",
      "```\n"
     ]
    }
   ],
   "source": [
    "question = \"Plot the energy usage trend for the first week of January 2007..\"\n",
    "\n",
    "response = get_code_from_model(question)\n",
    "\n",
    "print(response)"
   ]
  },
  {
   "cell_type": "markdown",
   "id": "2de1f03c",
   "metadata": {},
   "source": [
    "#### Running the code"
   ]
  },
  {
   "cell_type": "code",
   "execution_count": 12,
   "id": "49269718",
   "metadata": {},
   "outputs": [
    {
     "ename": "SyntaxError",
     "evalue": "closing parenthesis ')' does not match opening parenthesis '[' (2847655202.py, line 9)",
     "output_type": "error",
     "traceback": [
      "\u001b[0;36m  Cell \u001b[0;32mIn[12], line 9\u001b[0;36m\u001b[0m\n\u001b[0;31m    df_first_week = df['2007-01-01':'2007-01-07')\u001b[0m\n\u001b[0m                                                ^\u001b[0m\n\u001b[0;31mSyntaxError\u001b[0m\u001b[0;31m:\u001b[0m closing parenthesis ')' does not match opening parenthesis '['\n"
     ]
    }
   ],
   "source": [
    "import pandas as pd\n",
    "import matplotlib.pyplot as plt\n",
    "\n",
    "df = pd.read_csv('household_power_consumption.csv', sep=';', parse_dates={'datetime': ['Date', 'Time']}, infer_datetime_format=True, na_values=['?'], low_memory=False)\n",
    "df = df.dropna()\n",
    "df['Global_active_power'] = df['Global_active_power'].astype(float)\n",
    "df = df.set_index('datetime')\n",
    "\n",
    "df_first_week = df['2007-01-01':'2007-01-07')\n",
    "df_first_week['Global_active_power'].plot()\n",
    "plt.show()"
   ]
  },
  {
   "cell_type": "markdown",
   "id": "1c853f57",
   "metadata": {},
   "source": [
    "### 6. Find the average voltage for each day of the first week of February 2007."
   ]
  },
  {
   "cell_type": "code",
   "execution_count": 13,
   "id": "dbdeebe5",
   "metadata": {},
   "outputs": [
    {
     "name": "stdout",
     "output_type": "stream",
     "text": [
      "```\n",
      "import pandas as pd\n",
      "\n",
      "df = pd.read_csv('household_power_consumption.csv', sep=';', parse_dates={'datetime': ['Date', 'Time']}, infer_datetime_format=True, na_values=['?'], low_memory=False)\n",
      "df = df.dropna()\n",
      "df['Global_active_power'] = df['Global_active_power'].astype(float)\n",
      "df = df.set_index('datetime')\n",
      "\n",
      "df_february_2007'] = df['2007-02'].resample('D')['Voltage'].mean()\n",
      "print(df_february_2007.head(7))\n",
      "```\n"
     ]
    }
   ],
   "source": [
    "question = \"Find the average voltage for each day of the first week of February 2007\"\n",
    "\n",
    "response = get_code_from_model(question)\n",
    "\n",
    "print(response)"
   ]
  },
  {
   "cell_type": "markdown",
   "id": "f8a06ea9",
   "metadata": {},
   "source": [
    "#### Running the code"
   ]
  },
  {
   "cell_type": "code",
   "execution_count": 14,
   "id": "dc30416d",
   "metadata": {},
   "outputs": [
    {
     "ename": "SyntaxError",
     "evalue": "invalid syntax (4116217346.py, line 8)",
     "output_type": "error",
     "traceback": [
      "\u001b[0;36m  Cell \u001b[0;32mIn[14], line 8\u001b[0;36m\u001b[0m\n\u001b[0;31m    df_february_2007'] = df['2007-02'].resample('D')['Voltage'].mean()\u001b[0m\n\u001b[0m                    ^\u001b[0m\n\u001b[0;31mSyntaxError\u001b[0m\u001b[0;31m:\u001b[0m invalid syntax\n"
     ]
    }
   ],
   "source": [
    "import pandas as pd\n",
    "\n",
    "df = pd.read_csv('household_power_consumption.csv', sep=';', parse_dates={'datetime': ['Date', 'Time']}, infer_datetime_format=True, na_values=['?'], low_memory=False)\n",
    "df = df.dropna()\n",
    "df['Global_active_power'] = df['Global_active_power'].astype(float)\n",
    "df = df.set_index('datetime')\n",
    "\n",
    "df_february_2007'] = df['2007-02'].resample('D')['Voltage'].mean()\n",
    "print(df_february_2007.head(7))"
   ]
  },
  {
   "cell_type": "markdown",
   "id": "1727cc8c",
   "metadata": {},
   "source": [
    "### 7. What is the correlation between global active power and sub-metering values?"
   ]
  },
  {
   "cell_type": "code",
   "execution_count": 15,
   "id": "21f546e1",
   "metadata": {},
   "outputs": [
    {
     "name": "stdout",
     "output_type": "stream",
     "text": [
      "```\n",
      "import pandas as pd\n",
      "\n",
      "df = pd.read_csv('household_power_consumption.csv', sep=';', parse_dates={'datetime': ['Date', 'Time']}, infer_datetime_format=True, na_values=['?'], low_memory=False)\n",
      "\n",
      "df = df.dropna()\n",
      "df['Global_active_power'] = df['Global_active_power'].astype(float)\n",
      "df = df.set_index('datetime')\n",
      "\n",
      "corr_sub_metering = df[['Global_active_power', 'Sub_metering_1', 'Sub_metering_2', 'Sub_metering_3']].corr()\n",
      "print(corr_sub_metering)\n",
      "```\n"
     ]
    }
   ],
   "source": [
    "question = \"What is the correlation between global active power and sub-metering values?\"\n",
    "\n",
    "response = get_code_from_model(question)\n",
    "\n",
    "print(response)"
   ]
  },
  {
   "cell_type": "markdown",
   "id": "6eec3919",
   "metadata": {},
   "source": [
    "#### Running the code"
   ]
  },
  {
   "cell_type": "code",
   "execution_count": 16,
   "id": "65a14a8b",
   "metadata": {},
   "outputs": [
    {
     "name": "stdout",
     "output_type": "stream",
     "text": [
      "                     Global_active_power  Sub_metering_1  Sub_metering_2  \\\n",
      "Global_active_power             1.000000        0.484401        0.434569   \n",
      "Sub_metering_1                  0.484401        1.000000        0.054721   \n",
      "Sub_metering_2                  0.434569        0.054721        1.000000   \n",
      "Sub_metering_3                  0.638555        0.102571        0.080872   \n",
      "\n",
      "                     Sub_metering_3  \n",
      "Global_active_power        0.638555  \n",
      "Sub_metering_1             0.102571  \n",
      "Sub_metering_2             0.080872  \n",
      "Sub_metering_3             1.000000  \n"
     ]
    }
   ],
   "source": [
    "import pandas as pd\n",
    "\n",
    "df = pd.read_csv('household_power_consumption.csv', sep=';', parse_dates={'datetime': ['Date', 'Time']}, infer_datetime_format=True, na_values=['?'], low_memory=False)\n",
    "\n",
    "df = df.dropna()\n",
    "df['Global_active_power'] = df['Global_active_power'].astype(float)\n",
    "df = df.set_index('datetime')\n",
    "\n",
    "corr_sub_metering = df[['Global_active_power', 'Sub_metering_1', 'Sub_metering_2', 'Sub_metering_3']].corr()\n",
    "print(corr_sub_metering)"
   ]
  },
  {
   "cell_type": "markdown",
   "id": "c75e3389",
   "metadata": {},
   "source": [
    "### 7.1 What is the correlation between global active power and sub-metering values? Give me a plot also"
   ]
  },
  {
   "cell_type": "code",
   "execution_count": null,
   "id": "43b62892",
   "metadata": {},
   "outputs": [
    {
     "name": "stdout",
     "output_type": "stream",
     "text": [
      "```\n",
      "import pandas as pd\n",
      "import matplotlib.pyplot as plt\n",
      "\n",
      "df = pd.read_csv('household_power_consumption.csv', sep=';', parse_dates={'datetime': ['Date', 'Time']}, infer_datetime_format=True, na_values=['?'], low_memory=False)\n",
      "df = df.dropna()\n",
      "df['Global_active_power'] = df['Global_active_power'].astype(float)\n",
      "df = df.set_index('datetime')\n",
      "\n",
      "corr = df[['Global_active_power', 'Sub_metering_1', 'Sub_metering_2', 'Sub_metering_3']].corr()\n",
      "print(corr)\n",
      "\n",
      "plt.figure(figsize=(10,8))\n",
      "plt.imshow(corr, interpolation='nearest')\n",
      "plt.title(\"Correlation Matrix\")\n",
      "plt.colorbar()\n",
      "plt.show()\n",
      "```\n"
     ]
    }
   ],
   "source": [
    "question = \"What is the correlation between global active power and sub-metering values? Give me a plot also\"\n",
    "\n",
    "response = get_code_from_model(question)\n",
    "\n",
    "print(response)"
   ]
  },
  {
   "cell_type": "markdown",
   "id": "4a5aaced",
   "metadata": {},
   "source": [
    "#### Running the code"
   ]
  },
  {
   "cell_type": "code",
   "execution_count": null,
   "id": "fec42b73",
   "metadata": {},
   "outputs": [
    {
     "name": "stdout",
     "output_type": "stream",
     "text": [
      "                     Global_active_power  Sub_metering_1  Sub_metering_2  \\\n",
      "Global_active_power             1.000000        0.484401        0.434569   \n",
      "Sub_metering_1                  0.484401        1.000000        0.054721   \n",
      "Sub_metering_2                  0.434569        0.054721        1.000000   \n",
      "Sub_metering_3                  0.638555        0.102571        0.080872   \n",
      "\n",
      "                     Sub_metering_3  \n",
      "Global_active_power        0.638555  \n",
      "Sub_metering_1             0.102571  \n",
      "Sub_metering_2             0.080872  \n",
      "Sub_metering_3             1.000000  \n"
     ]
    },
    {
     "data": {
      "image/png": "[encoded data removed]",
      "text/plain": [
       "<Figure size 1000x800 with 2 Axes>"
      ]
     },
     "metadata": {},
     "output_type": "display_data"
    }
   ],
   "source": [
    "import pandas as pd\n",
    "import matplotlib.pyplot as plt\n",
    "\n",
    "df = pd.read_csv('household_power_consumption.csv', sep=';', parse_dates={'datetime': ['Date', 'Time']}, infer_datetime_format=True, na_values=['?'], low_memory=False)\n",
    "df = df.dropna()\n",
    "df['Global_active_power'] = df['Global_active_power'].astype(float)\n",
    "df = df.set_index('datetime')\n",
    "\n",
    "corr = df[['Global_active_power', 'Sub_metering_1', 'Sub_metering_2', 'Sub_metering_3']].corr()\n",
    "print(corr)\n",
    "\n",
    "plt.figure(figsize=(10,8))\n",
    "plt.imshow(corr, interpolation='nearest')\n",
    "plt.title(\"Correlation Matrix\")\n",
    "plt.colorbar()\n",
    "plt.show()"
   ]
  }
 ],
 "metadata": {
  "kernelspec": {
   "display_name": "Oasis",
   "language": "python",
   "name": "python3"
  },
  "language_info": {
   "codemirror_mode": {
    "name": "ipython",
    "version": 3
   },
   "file_extension": ".py",
   "mimetype": "text/x-python",
   "name": "python",
   "nbconvert_exporter": "python",
   "pygments_lexer": "ipython3",
   "version": "3.9.21"
  }
 },
 "nbformat": 4,
 "nbformat_minor": 5
}
