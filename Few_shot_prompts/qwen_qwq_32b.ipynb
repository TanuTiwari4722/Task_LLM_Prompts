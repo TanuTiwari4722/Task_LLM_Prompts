{
 "cells": [
  {
   "cell_type": "markdown",
   "id": "7d94dccc",
   "metadata": {},
   "source": [
    "### Importing Libraries and setting env variables"
   ]
  },
  {
   "cell_type": "code",
   "execution_count": 1,
   "id": "07ead90b",
   "metadata": {},
   "outputs": [],
   "source": [
    "import os\n",
    "from groq import Groq\n",
    "from dotenv import load_dotenv\n",
    "\n",
    "import warnings\n",
    "warnings.simplefilter(action='ignore', category=FutureWarning)\n",
    "warnings.simplefilter(action='ignore', category=UserWarning)\n",
    "\n",
    "load_dotenv()\n",
    "\n",
    "api_key = os.getenv(\"GROQ_API_KEY\")\n",
    "client = Groq(api_key=api_key)"
   ]
  },
  {
   "cell_type": "markdown",
   "id": "c1b8a685",
   "metadata": {},
   "source": [
    "### Prompting Model"
   ]
  },
  {
   "cell_type": "code",
   "execution_count": 3,
   "id": "3e201fa5",
   "metadata": {},
   "outputs": [],
   "source": [
    "def get_code_from_model(query):\n",
    "    chat_completion = client.chat.completions.create(\n",
    "        messages=[\n",
    "            {\n",
    "                \"role\": \"system\",\n",
    "                \"content\": (\n",
    "                    \"You are a professional Python developer. \"\n",
    "                    \"Answer all queries by generating only valid and clean Python code. \"\n",
    "                    \"Always return complete code starting from loading and cleaning the dataset. \"\n",
    "                    \"Do not provide any explanation or comments.\\n\\n\"\n",
    "\n",
    "                    \"You have access to a dataset stored in 'household_power_consumption.csv'. \"\n",
    "                    \"Start every answer by loading the dataset using:\\n\"\n",
    "                    \"df = pd.read_csv('household_power_consumption.csv', sep=';', parse_dates={'datetime': ['Date', 'Time']}, \"\n",
    "                    \"infer_datetime_format=True, na_values=['?'], low_memory=False)\\n\"\n",
    "                    \"df = df.dropna()\\n\"\n",
    "                    \"df['Global_active_power'] = df['Global_active_power'].astype(float)\\n\"\n",
    "                    \"df = df.set_index('datetime')\\n\\n\"\n",
    "\n",
    "                    \"The columns in the DataFrame `df` are: 'Global_active_power', 'Global_reactive_power', 'Voltage', \"\n",
    "                    \"'Global_intensity', 'Sub_metering_1', 'Sub_metering_2', 'Sub_metering_3'.\\n\"\n",
    "                    \"The index is 'datetime' and all columns contain floating point values.\\n\\n\"\n",
    "\n",
    "                    \"Here are some examples:\\n\\n\"\n",
    "\n",
    "                    \"Input: What is the peak voltage recorded each week in 2007?\\n\"\n",
    "                    \"Output:\\n\"\n",
    "                    \"import pandas as pd\\n\"\n",
    "                    \"df = pd.read_csv('household_power_consumption.csv', sep=';', parse_dates={'datetime': ['Date', 'Time']}, \"\n",
    "                    \"infer_datetime_format=True, na_values=['?'], low_memory=False)\\n\"\n",
    "                    \"df = df.dropna()\\n\"\n",
    "                    \"df['Global_active_power'] = df['Global_active_power'].astype(float)\\n\"\n",
    "                    \"df = df.set_index('datetime')\\n\"\n",
    "                    \"df.loc['2007'].resample('W')['Voltage'].max()\\n\\n\"\n",
    "\n",
    "                    \"Input: On how many days did the Voltage drop below 235 volts?\\n\"\n",
    "                    \"Output:\\n\"\n",
    "                    \"import pandas as pd\\n\"\n",
    "                    \"df = pd.read_csv('household_power_consumption.csv', sep=';', parse_dates={'datetime': ['Date', 'Time']}, \"\n",
    "                    \"infer_datetime_format=True, na_values=['?'], low_memory=False)\\n\"\n",
    "                    \"df = df.dropna()\\n\"\n",
    "                    \"df['Global_active_power'] = df['Global_active_power'].astype(float)\\n\"\n",
    "                    \"df = df.set_index('datetime')\\n\"\n",
    "                    \"(df['Voltage'].resample('D').apply(lambda x: (x < 235).any())).sum()\\n\\n\"\n",
    "\n",
    "\n",
    "                    \"Input: Find the correlation between Sub_metering_1 and Global_intensity.\\n\"\n",
    "                    \"Output:\\n\"\n",
    "                    \"import pandas as pd\\n\"\n",
    "                    \"df = pd.read_csv('household_power_consumption.csv', sep=';', parse_dates={'datetime': ['Date', 'Time']}, \"\n",
    "                    \"infer_datetime_format=True, na_values=['?'], low_memory=False)\\n\"\n",
    "                    \"df = df.dropna()\\n\"\n",
    "                    \"df['Global_active_power'] = df['Global_active_power'].astype(float)\\n\"\n",
    "                    \"df = df.set_index('datetime')\\n\"\n",
    "                    \"df[['Sub_metering_1', 'Global_intensity']].corr().loc['Sub_metering_1', 'Global_intensity']\"\n",
    "\n",
    "                    \"Input: Find dates where total sub-metering energy exceeded 3 kWh.\\n\"\n",
    "                    \"Output:\\n\"\n",
    "                    \"import pandas as pd\\n\"\n",
    "                    \"df = pd.read_csv('household_power_consumption.csv', sep=';', parse_dates={'datetime': ['Date', 'Time']}, \"\n",
    "                    \"infer_datetime_format=True, na_values=['?'], low_memory=False)\\n\"\n",
    "                    \"df = df.dropna()\\n\"\n",
    "                    \"df['Global_active_power'] = df['Global_active_power'].astype(float)\\n\"\n",
    "                    \"df = df.set_index('datetime')\\n\"\n",
    "                    \"df['Total_Sub_metering'] = df['Sub_metering_1'] + df['Sub_metering_2'] + df['Sub_metering_3']\\n\"\n",
    "                    \"daily_total = df['Total_Sub_metering'].resample('D').sum()\\n\"\n",
    "                    \"daily_total[daily_total > 3000].index.date\\n\\n\"\n",
    "\n",
    "                )\n",
    "            },\n",
    "            {\n",
    "                \"role\": \"user\",\n",
    "                \"content\": query\n",
    "            }\n",
    "        ],\n",
    "        model=\"llama3-70b-8192\",\n",
    "        temperature=0,\n",
    "        top_p=1,\n",
    "    )\n",
    "\n",
    "    return chat_completion.choices[0].message.content\n"
   ]
  },
  {
   "cell_type": "markdown",
   "id": "8de77546",
   "metadata": {},
   "source": [
    "### 1. What was the average active power consumption in March 2007?"
   ]
  },
  {
   "cell_type": "code",
   "execution_count": 4,
   "id": "5788ae8b",
   "metadata": {},
   "outputs": [
    {
     "name": "stdout",
     "output_type": "stream",
     "text": [
      "import pandas as pd\n",
      "df = pd.read_csv('household_power_consumption.csv', sep=';', parse_dates={'datetime': ['Date', 'Time']}, infer_datetime_format=True, na_values=['?'], low_memory=False)\n",
      "df = df.dropna()\n",
      "df['Global_active_power'] = df['Global_active_power'].astype(float)\n",
      "df = df.set_index('datetime')\n",
      "df.loc['2007-03']['Global_active_power'].mean()\n"
     ]
    }
   ],
   "source": [
    "question = \"What was the average active power consumption in March 2007?\"\n",
    "\n",
    "response = get_code_from_model(question)\n",
    "\n",
    "print(response)"
   ]
  },
  {
   "cell_type": "markdown",
   "id": "95b5522a",
   "metadata": {},
   "source": [
    "#### Running the code"
   ]
  },
  {
   "cell_type": "code",
   "execution_count": 5,
   "id": "f04e56b7",
   "metadata": {},
   "outputs": [
    {
     "data": {
      "text/plain": [
       "1.3186270301754073"
      ]
     },
     "execution_count": 5,
     "metadata": {},
     "output_type": "execute_result"
    }
   ],
   "source": [
    "import pandas as pd\n",
    "df = pd.read_csv('household_power_consumption.csv', sep=';', parse_dates={'datetime': ['Date', 'Time']}, infer_datetime_format=True, na_values=['?'], low_memory=False)\n",
    "df = df.dropna()\n",
    "df['Global_active_power'] = df['Global_active_power'].astype(float)\n",
    "df = df.set_index('datetime')\n",
    "df.loc['2007-03']['Global_active_power'].mean()"
   ]
  },
  {
   "cell_type": "markdown",
   "id": "23857a8b",
   "metadata": {},
   "source": [
    "### 2. What hour of the day had the highest power usage on Christmas 2006?"
   ]
  },
  {
   "cell_type": "code",
   "execution_count": 6,
   "id": "6a1ed2cb",
   "metadata": {},
   "outputs": [
    {
     "name": "stdout",
     "output_type": "stream",
     "text": [
      "import pandas as pd\n",
      "df = pd.read_csv('household_power_consumption.csv', sep=';', parse_dates={'datetime': ['Date', 'Time']}, infer_datetime_format=True, na_values=['?'], low_memory=False)\n",
      "df = df.dropna()\n",
      "df['Global_active_power'] = df['Global_active_power'].astype(float)\n",
      "df = df.set_index('datetime')\n",
      "df_xmas_2006 = df[(df.index.year == 2006) & (df.index.month == 12) & (df.index.day == 25)]\n",
      "df_xmas_2006['Global_active_power'].resample('H').sum().idxmax()\n"
     ]
    }
   ],
   "source": [
    "question = \"What hour of the day had the highest power usage on Christmas 2006?\"\n",
    "\n",
    "response = get_code_from_model(question)\n",
    "\n",
    "print(response)"
   ]
  },
  {
   "cell_type": "markdown",
   "id": "316422e0",
   "metadata": {},
   "source": [
    "#### Running the code"
   ]
  },
  {
   "cell_type": "code",
   "execution_count": 7,
   "id": "ce82d062",
   "metadata": {},
   "outputs": [
    {
     "data": {
      "text/plain": [
       "Timestamp('2006-12-25 22:00:00')"
      ]
     },
     "execution_count": 7,
     "metadata": {},
     "output_type": "execute_result"
    }
   ],
   "source": [
    "import pandas as pd\n",
    "df = pd.read_csv('household_power_consumption.csv', sep=';', parse_dates={'datetime': ['Date', 'Time']}, infer_datetime_format=True, na_values=['?'], low_memory=False)\n",
    "df = df.dropna()\n",
    "df['Global_active_power'] = df['Global_active_power'].astype(float)\n",
    "df = df.set_index('datetime')\n",
    "df_xmas_2006 = df[(df.index.year == 2006) & (df.index.month == 12) & (df.index.day == 25)]\n",
    "df_xmas_2006['Global_active_power'].resample('H').sum().idxmax()"
   ]
  },
  {
   "cell_type": "markdown",
   "id": "ce4192fd",
   "metadata": {},
   "source": [
    "### 3. Compare energy usage (Global_active_power) on weekdays vs weekends."
   ]
  },
  {
   "cell_type": "code",
   "execution_count": 8,
   "id": "c0de2ed6",
   "metadata": {},
   "outputs": [
    {
     "name": "stdout",
     "output_type": "stream",
     "text": [
      "import pandas as pd\n",
      "df = pd.read_csv('household_power_consumption.csv', sep=';', parse_dates={'datetime': ['Date', 'Time']}, infer_datetime_format=True, na_values=['?'], low_memory=False)\n",
      "df = df.dropna()\n",
      "df['Global_active_power'] = df['Global_active_power'].astype(float)\n",
      "df = df.set_index('datetime')\n",
      "weekdays = df[df.index.dayofweek < 5]['Global_active_power']\n",
      "weekends = df[df.index.dayofweek >= 5]['Global_active_power']\n",
      "print(weekdays.mean(), weekends.mean())\n"
     ]
    }
   ],
   "source": [
    "question = \"Compare energy usage (Global_active_power) on weekdays vs weekends.\"\n",
    "\n",
    "response = get_code_from_model(question)\n",
    "\n",
    "print(response)"
   ]
  },
  {
   "cell_type": "markdown",
   "id": "e6c418b8",
   "metadata": {},
   "source": [
    "#### Running the code"
   ]
  },
  {
   "cell_type": "code",
   "execution_count": 9,
   "id": "51520d6a",
   "metadata": {},
   "outputs": [
    {
     "name": "stdout",
     "output_type": "stream",
     "text": [
      "1.0354720516747509 1.234232176791304\n"
     ]
    }
   ],
   "source": [
    "import pandas as pd\n",
    "df = pd.read_csv('household_power_consumption.csv', sep=';', parse_dates={'datetime': ['Date', 'Time']}, infer_datetime_format=True, na_values=['?'], low_memory=False)\n",
    "df = df.dropna()\n",
    "df['Global_active_power'] = df['Global_active_power'].astype(float)\n",
    "df = df.set_index('datetime')\n",
    "weekdays = df[df.index.dayofweek < 5]['Global_active_power']\n",
    "weekends = df[df.index.dayofweek >= 5]['Global_active_power']\n",
    "print(weekdays.mean(), weekends.mean())"
   ]
  },
  {
   "cell_type": "markdown",
   "id": "1b52645b",
   "metadata": {},
   "source": [
    "### 4. Find days where energy consumption exceeded 5 kWh."
   ]
  },
  {
   "cell_type": "code",
   "execution_count": 10,
   "id": "04abc6e2",
   "metadata": {},
   "outputs": [
    {
     "name": "stdout",
     "output_type": "stream",
     "text": [
      "import pandas as pd\n",
      "df = pd.read_csv('household_power_consumption.csv', sep=';', parse_dates={'datetime': ['Date', 'Time']}, infer_datetime_format=True, na_values=['?'], low_memory=False)\n",
      "df = df.dropna()\n",
      "df['Global_active_power'] = df['Global_active_power'].astype(float)\n",
      "df = df.set_index('datetime')\n",
      "daily_consumption = df['Global_active_power'].resample('D').sum()\n",
      "daily_consumption[daily_consumption > 5000].index.date\n"
     ]
    }
   ],
   "source": [
    "question = \"Find days where energy consumption exceeded 5 kWh.\"\n",
    "\n",
    "response = get_code_from_model(question)\n",
    "\n",
    "print(response)"
   ]
  },
  {
   "cell_type": "markdown",
   "id": "0d899f2f",
   "metadata": {},
   "source": [
    "#### Running the code"
   ]
  },
  {
   "cell_type": "code",
   "execution_count": 7,
   "id": "30b58503",
   "metadata": {},
   "outputs": [
    {
     "name": "stderr",
     "output_type": "stream",
     "text": [
      "/tmp/ipykernel_243793/34268679.py:2: FutureWarning: Support for nested sequences for 'parse_dates' in pd.read_csv is deprecated. Combine the desired columns with pd.to_datetime after parsing instead.\n",
      "  df = pd.read_csv('household_power_consumption.csv', sep=';', parse_dates={'datetime': ['Date', 'Time']}, infer_datetime_format=True, na_values=['?'], low_memory=False)\n",
      "/tmp/ipykernel_243793/34268679.py:2: FutureWarning: The argument 'infer_datetime_format' is deprecated and will be removed in a future version. A strict version of it is now the default, see https://pandas.pydata.org/pdeps/0004-consistent-to-datetime-parsing.html. You can safely remove this argument.\n",
      "  df = pd.read_csv('household_power_consumption.csv', sep=';', parse_dates={'datetime': ['Date', 'Time']}, infer_datetime_format=True, na_values=['?'], low_memory=False)\n",
      "/tmp/ipykernel_243793/34268679.py:2: UserWarning: Parsing dates in %d/%m/%Y %H:%M:%S format when dayfirst=False (the default) was specified. Pass `dayfirst=True` or specify a format to silence this warning.\n",
      "  df = pd.read_csv('household_power_consumption.csv', sep=';', parse_dates={'datetime': ['Date', 'Time']}, infer_datetime_format=True, na_values=['?'], low_memory=False)\n"
     ]
    },
    {
     "data": {
      "text/plain": [
       "array([], dtype=object)"
      ]
     },
     "execution_count": 7,
     "metadata": {},
     "output_type": "execute_result"
    }
   ],
   "source": [
    "import pandas as pd\n",
    "df = pd.read_csv('household_power_consumption.csv', sep=';', parse_dates={'datetime': ['Date', 'Time']}, infer_datetime_format=True, na_values=['?'], low_memory=False)\n",
    "df = df.dropna()\n",
    "df['Global_active_power'] = df['Global_active_power'].astype(float)\n",
    "df = df.set_index('datetime')\n",
    "daily_consumption = df['Global_active_power'].resample('D').sum()\n",
    "daily_consumption[daily_consumption > 5000].index.date"
   ]
  },
  {
   "cell_type": "markdown",
   "id": "00a0c62a",
   "metadata": {},
   "source": [
    "### 5. Plot the energy usage trend for the first week of January 2007."
   ]
  },
  {
   "cell_type": "code",
   "execution_count": 13,
   "id": "5a72133b",
   "metadata": {},
   "outputs": [
    {
     "name": "stdout",
     "output_type": "stream",
     "text": [
      "import pandas as pd\n",
      "import matplotlib.pyplot as plt\n",
      "df = pd.read_csv('household_power_consumption.csv', sep=';', parse_dates={'datetime': ['Date', 'Time']}, infer_datetime_format=True, na_values=['?'], low_memory=False)\n",
      "df = df.dropna()\n",
      "df['Global_active_power'] = df['Global_active_power'].astype(float)\n",
      "df = df.set_index('datetime')\n",
      "df['Global_active_power'].loc['2007-01-01':'2007-01-07'].plot(kind='line')\n",
      "plt.show()\n"
     ]
    }
   ],
   "source": [
    "question = \"Plot the energy usage trend for the first week of January 2007..\"\n",
    "\n",
    "response = get_code_from_model(question)\n",
    "\n",
    "print(response)"
   ]
  },
  {
   "cell_type": "markdown",
   "id": "2de1f03c",
   "metadata": {},
   "source": [
    "#### Running the code"
   ]
  },
  {
   "cell_type": "code",
   "execution_count": 14,
   "id": "49269718",
   "metadata": {},
   "outputs": [
    {
     "data": {
      "image/png": "[encoded data removed]",
      "text/plain": [
       "<Figure size 640x480 with 1 Axes>"
      ]
     },
     "metadata": {},
     "output_type": "display_data"
    }
   ],
   "source": [
    "import pandas as pd\n",
    "import matplotlib.pyplot as plt\n",
    "df = pd.read_csv('household_power_consumption.csv', sep=';', parse_dates={'datetime': ['Date', 'Time']}, infer_datetime_format=True, na_values=['?'], low_memory=False)\n",
    "df = df.dropna()\n",
    "df['Global_active_power'] = df['Global_active_power'].astype(float)\n",
    "df = df.set_index('datetime')\n",
    "df['Global_active_power'].loc['2007-01-01':'2007-01-07'].plot(kind='line')\n",
    "plt.show()"
   ]
  },
  {
   "cell_type": "markdown",
   "id": "1c853f57",
   "metadata": {},
   "source": [
    "### 6. Find the average voltage for each day of the first week of February 2007."
   ]
  },
  {
   "cell_type": "code",
   "execution_count": 15,
   "id": "dbdeebe5",
   "metadata": {},
   "outputs": [
    {
     "name": "stdout",
     "output_type": "stream",
     "text": [
      "import pandas as pd\n",
      "df = pd.read_csv('household_power_consumption.csv', sep=';', parse_dates={'datetime': ['Date', 'Time']}, infer_datetime_format=True, na_values=['?'], low_memory=False)\n",
      "df = df.dropna()\n",
      "df['Global_active_power'] = df['Global_active_power'].astype(float)\n",
      "df = df.set_index('datetime')\n",
      "df.loc['2007-02-01':'2007-02-07'].resample('D')['Voltage'].mean()\n"
     ]
    }
   ],
   "source": [
    "question = \"Find the average voltage for each day of the first week of February 2007\"\n",
    "\n",
    "response = get_code_from_model(question)\n",
    "\n",
    "print(response)"
   ]
  },
  {
   "cell_type": "markdown",
   "id": "f8a06ea9",
   "metadata": {},
   "source": [
    "#### Running the code"
   ]
  },
  {
   "cell_type": "code",
   "execution_count": 16,
   "id": "dc30416d",
   "metadata": {},
   "outputs": [
    {
     "data": {
      "text/plain": [
       "datetime\n",
       "2007-02-01    240.392139\n",
       "2007-02-02    240.334389\n",
       "2007-02-03    238.910194\n",
       "2007-02-04    239.633333\n",
       "2007-02-05    240.810312\n",
       "2007-02-06    241.264160\n",
       "2007-02-07    241.149694\n",
       "Freq: D, Name: Voltage, dtype: float64"
      ]
     },
     "execution_count": 16,
     "metadata": {},
     "output_type": "execute_result"
    }
   ],
   "source": [
    "import pandas as pd\n",
    "df = pd.read_csv('household_power_consumption.csv', sep=';', parse_dates={'datetime': ['Date', 'Time']}, infer_datetime_format=True, na_values=['?'], low_memory=False)\n",
    "df = df.dropna()\n",
    "df['Global_active_power'] = df['Global_active_power'].astype(float)\n",
    "df = df.set_index('datetime')\n",
    "df.loc['2007-02-01':'2007-02-07'].resample('D')['Voltage'].mean()"
   ]
  },
  {
   "cell_type": "markdown",
   "id": "1727cc8c",
   "metadata": {},
   "source": [
    "### 7. What is the correlation between global active power and sub-metering values?"
   ]
  },
  {
   "cell_type": "code",
   "execution_count": 17,
   "id": "21f546e1",
   "metadata": {},
   "outputs": [
    {
     "name": "stdout",
     "output_type": "stream",
     "text": [
      "import pandas as pd\n",
      "df = pd.read_csv('household_power_consumption.csv', sep=';', parse_dates={'datetime': ['Date', 'Time']}, infer_datetime_format=True, na_values=['?'], low_memory=False)\n",
      "df = df.dropna()\n",
      "df['Global_active_power'] = df['Global_active_power'].astype(float)\n",
      "df = df.set_index('datetime')\n",
      "df[['Global_active_power', 'Sub_metering_1', 'Sub_metering_2', 'Sub_metering_3']].corr().loc['Global_active_power']\n"
     ]
    }
   ],
   "source": [
    "question = \"What is the correlation between global active power and sub-metering values?\"\n",
    "\n",
    "response = get_code_from_model(question)\n",
    "\n",
    "print(response)"
   ]
  },
  {
   "cell_type": "markdown",
   "id": "6eec3919",
   "metadata": {},
   "source": [
    "#### Running the code"
   ]
  },
  {
   "cell_type": "code",
   "execution_count": 18,
   "id": "65a14a8b",
   "metadata": {},
   "outputs": [
    {
     "data": {
      "text/plain": [
       "Global_active_power    1.000000\n",
       "Sub_metering_1         0.484401\n",
       "Sub_metering_2         0.434569\n",
       "Sub_metering_3         0.638555\n",
       "Name: Global_active_power, dtype: float64"
      ]
     },
     "execution_count": 18,
     "metadata": {},
     "output_type": "execute_result"
    }
   ],
   "source": [
    "import pandas as pd\n",
    "df = pd.read_csv('household_power_consumption.csv', sep=';', parse_dates={'datetime': ['Date', 'Time']}, infer_datetime_format=True, na_values=['?'], low_memory=False)\n",
    "df = df.dropna()\n",
    "df['Global_active_power'] = df['Global_active_power'].astype(float)\n",
    "df = df.set_index('datetime')\n",
    "df[['Global_active_power', 'Sub_metering_1', 'Sub_metering_2', 'Sub_metering_3']].corr().loc['Global_active_power']"
   ]
  },
  {
   "cell_type": "markdown",
   "id": "c75e3389",
   "metadata": {},
   "source": [
    "### 7.1 What is the correlation between global active power and sub-metering values? Give me a plot also"
   ]
  },
  {
   "cell_type": "code",
   "execution_count": 19,
   "id": "43b62892",
   "metadata": {},
   "outputs": [
    {
     "name": "stdout",
     "output_type": "stream",
     "text": [
      "import pandas as pd\n",
      "import matplotlib.pyplot as plt\n",
      "\n",
      "df = pd.read_csv('household_power_consumption.csv', sep=';', parse_dates={'datetime': ['Date', 'Time']}, infer_datetime_format=True, na_values=['?'], low_memory=False)\n",
      "df = df.dropna()\n",
      "df['Global_active_power'] = df['Global_active_power'].astype(float)\n",
      "df = df.set_index('datetime')\n",
      "\n",
      "corr = df[['Global_active_power', 'Sub_metering_1', 'Sub_metering_2', 'Sub_metering_3']].corr()\n",
      "\n",
      "plt.figure(figsize=(10, 8))\n",
      "plt.imshow(corr, interpolation=\"nearest\")\n",
      "plt.title(\"Correlation between Global Active Power and Sub-metering Values\")\n",
      "plt.colorbar()\n",
      "plt.show()\n"
     ]
    }
   ],
   "source": [
    "question = \"What is the correlation between global active power and sub-metering values? Give me a plot also\"\n",
    "\n",
    "response = get_code_from_model(question)\n",
    "\n",
    "print(response)"
   ]
  },
  {
   "cell_type": "markdown",
   "id": "4a5aaced",
   "metadata": {},
   "source": [
    "#### Running the code"
   ]
  },
  {
   "cell_type": "code",
   "execution_count": 20,
   "id": "fec42b73",
   "metadata": {},
   "outputs": [
    {
     "data": {
      "image/png": "[encoded data removed]",
      "text/plain": [
       "<Figure size 1000x800 with 2 Axes>"
      ]
     },
     "metadata": {},
     "output_type": "display_data"
    }
   ],
   "source": [
    "import pandas as pd\n",
    "import matplotlib.pyplot as plt\n",
    "\n",
    "df = pd.read_csv('household_power_consumption.csv', sep=';', parse_dates={'datetime': ['Date', 'Time']}, infer_datetime_format=True, na_values=['?'], low_memory=False)\n",
    "df = df.dropna()\n",
    "df['Global_active_power'] = df['Global_active_power'].astype(float)\n",
    "df = df.set_index('datetime')\n",
    "\n",
    "corr = df[['Global_active_power', 'Sub_metering_1', 'Sub_metering_2', 'Sub_metering_3']].corr()\n",
    "\n",
    "plt.figure(figsize=(10, 8))\n",
    "plt.imshow(corr, interpolation=\"nearest\")\n",
    "plt.title(\"Correlation between Global Active Power and Sub-metering Values\")\n",
    "plt.colorbar()\n",
    "plt.show()"
   ]
  }
 ],
 "metadata": {
  "kernelspec": {
   "display_name": "Oasis",
   "language": "python",
   "name": "python3"
  },
  "language_info": {
   "codemirror_mode": {
    "name": "ipython",
    "version": 3
   },
   "file_extension": ".py",
   "mimetype": "text/x-python",
   "name": "python",
   "nbconvert_exporter": "python",
   "pygments_lexer": "ipython3",
   "version": "3.9.20"
  }
 },
 "nbformat": 4,
 "nbformat_minor": 5
}
